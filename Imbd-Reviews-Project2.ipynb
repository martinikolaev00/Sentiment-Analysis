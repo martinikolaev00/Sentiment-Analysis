{
 "cells": [
  {
   "cell_type": "markdown",
   "id": "083c7010",
   "metadata": {},
   "source": [
    "# Проект за Sentiment Analysis върху данни от Movie Reviews"
   ]
  },
  {
   "cell_type": "code",
   "execution_count": 2,
   "id": "7c527f1b",
   "metadata": {},
   "outputs": [],
   "source": [
    "import string\n",
    "import os\n",
    "import numpy as np\n",
    "from sklearn.feature_extraction.text import CountVectorizer\n",
    "from sklearn.linear_model import LogisticRegression\n",
    "from sklearn.feature_extraction.text import TfidfVectorizer\n",
    "import tarfile\n",
    "import matplotlib.pyplot as plt\n",
    "import urllib.request\n",
    "from sklearn.linear_model import RidgeClassifier\n",
    "from nltk.stem import WordNetLemmatizer\n",
    "import nltk\n",
    "from nltk.corpus import stopwords\n",
    "from nltk.stem import PorterStemmer\n",
    "from nltk.tokenize import word_tokenize\n",
    "from sklearn import linear_model\n",
    "from sklearn.naive_bayes import MultinomialNB\n",
    "from sklearn.neural_network import MLPClassifier"
   ]
  },
  {
   "cell_type": "markdown",
   "id": "58fcc210",
   "metadata": {},
   "source": [
    "Нека първо да свалим данните от \"http://ai.stanford.edu/~amaas/data/sentiment/aclImdb_v1.tar.gz\" и след това да ги разархивираме"
   ]
  },
  {
   "cell_type": "code",
   "execution_count": 3,
   "id": "f1ddf1f5",
   "metadata": {},
   "outputs": [
    {
     "data": {
      "text/plain": [
       "('aclImdb_v1.tar.gz', <http.client.HTTPMessage at 0x1f67b8c9370>)"
      ]
     },
     "execution_count": 3,
     "metadata": {},
     "output_type": "execute_result"
    }
   ],
   "source": [
    "url = \"http://ai.stanford.edu/~amaas/data/sentiment/aclImdb_v1.tar.gz\"\n",
    "urllib.request.urlretrieve(url, \"aclImdb_v1.tar.gz\")"
   ]
  },
  {
   "cell_type": "code",
   "execution_count": 4,
   "id": "8f0f887a",
   "metadata": {},
   "outputs": [],
   "source": [
    "tar = tarfile.open(\"aclImdb_v1.tar.gz\", \"r:gz\")\n",
    "tar.extractall()\n",
    "tar.close()"
   ]
  },
  {
   "cell_type": "markdown",
   "id": "62ef7ef0",
   "metadata": {},
   "source": [
    "Ще дефинираме функция за preprocessing на нашия текст"
   ]
  },
  {
   "cell_type": "code",
   "execution_count": 9,
   "id": "58ea3571",
   "metadata": {},
   "outputs": [],
   "source": [
    "def preprocess(text):\n",
    "  text = ''.join([c for c in text if c not in string.punctuation])\n",
    "  text = text.lower()\n",
    "  return text"
   ]
  },
  {
   "cell_type": "markdown",
   "id": "32c0278b",
   "metadata": {},
   "source": [
    "Сега нека заредим съотвено готовите данни съответно разделени на train и test"
   ]
  },
  {
   "cell_type": "code",
   "execution_count": 10,
   "id": "ec4befcb",
   "metadata": {},
   "outputs": [],
   "source": [
    "X_train_before_vectorizing = []\n",
    "y_train = []\n",
    "X_test_before_vectorizing = []\n",
    "y_test = []\n",
    "\n",
    "\n",
    "for sentiment in ['pos', 'neg']:\n",
    "  path = os.path.join('aclImdb', 'train', sentiment)\n",
    "  for file in os.listdir(path):\n",
    "    with open(os.path.join(path, file), 'r', encoding='utf8') as f:\n",
    "      review = f.read()\n",
    "      review = preprocess(review)\n",
    "      X_train_before_vectorizing.append(review)\n",
    "      y_train.append(1 if sentiment == 'pos' else 0)\n",
    "\n",
    "for sentiment in ['pos', 'neg']:\n",
    "  path = os.path.join('aclImdb', 'test', sentiment)\n",
    "  for file in os.listdir(path):\n",
    "    with open(os.path.join(path, file), 'r', encoding='utf8') as f:\n",
    "      review = f.read()\n",
    "      review = preprocess(review)\n",
    "      X_test_before_vectorizing.append(review)\n",
    "      y_test.append(1 if sentiment == 'pos' else 0)"
   ]
  },
  {
   "cell_type": "markdown",
   "id": "f8caecde",
   "metadata": {},
   "source": [
    "След като вече имаме заредени данните, ще трансформираме текста използвайки CountVectorizer"
   ]
  },
  {
   "cell_type": "code",
   "execution_count": 11,
   "id": "816248a6",
   "metadata": {},
   "outputs": [],
   "source": [
    "vectorizer = CountVectorizer()\n",
    "X_train_CountVectorizer = vectorizer.fit_transform(X_train_before_vectorizing)\n",
    "X_test_CountVectorizer = vectorizer.transform(X_test_before_vectorizing)"
   ]
  },
  {
   "cell_type": "markdown",
   "id": "a51df3e0",
   "metadata": {},
   "source": [
    "Нека натренираме модела и да видим как се справя"
   ]
  },
  {
   "cell_type": "code",
   "execution_count": 12,
   "id": "ab96b81c",
   "metadata": {},
   "outputs": [
    {
     "name": "stdout",
     "output_type": "stream",
     "text": [
      "Accuracy: 0.869\n"
     ]
    },
    {
     "name": "stderr",
     "output_type": "stream",
     "text": [
      "C:\\Users\\Martin\\anaconda3\\lib\\site-packages\\sklearn\\linear_model\\_logistic.py:814: ConvergenceWarning: lbfgs failed to converge (status=1):\n",
      "STOP: TOTAL NO. of ITERATIONS REACHED LIMIT.\n",
      "\n",
      "Increase the number of iterations (max_iter) or scale the data as shown in:\n",
      "    https://scikit-learn.org/stable/modules/preprocessing.html\n",
      "Please also refer to the documentation for alternative solver options:\n",
      "    https://scikit-learn.org/stable/modules/linear_model.html#logistic-regression\n",
      "  n_iter_i = _check_optimize_result(\n"
     ]
    }
   ],
   "source": [
    "model = LogisticRegression()\n",
    "model.fit(X_train_CountVectorizer, y_train)\n",
    "accuracy = model.score(X_test_CountVectorizer, y_test)\n",
    "print('Accuracy: {:.3f}'.format(accuracy))     "
   ]
  },
  {
   "cell_type": "markdown",
   "id": "b9b656fa",
   "metadata": {},
   "source": [
    "Тъй като виждаме, че е достигнал лимита на итерации, ще пробваме с по-голям лимит, да видим дали ще пробмени резултата"
   ]
  },
  {
   "cell_type": "code",
   "execution_count": 13,
   "id": "914644ef",
   "metadata": {},
   "outputs": [
    {
     "name": "stdout",
     "output_type": "stream",
     "text": [
      "Accuracy: 0.872\n"
     ]
    }
   ],
   "source": [
    "model = LogisticRegression(max_iter=3000)\n",
    "model.fit(X_train_CountVectorizer, y_train)\n",
    "accuracy = model.score(X_test_CountVectorizer, y_test)\n",
    "print('Accuracy: {:.3f}'.format(accuracy)) "
   ]
  },
  {
   "cell_type": "markdown",
   "id": "3f725245",
   "metadata": {},
   "source": [
    "Нека сега пробваме с различни стойности на C"
   ]
  },
  {
   "cell_type": "code",
   "execution_count": 17,
   "id": "91c65cbf",
   "metadata": {},
   "outputs": [
    {
     "data": {
      "text/plain": [
       "[<matplotlib.lines.Line2D at 0x1cb8a5b3af0>]"
      ]
     },
     "execution_count": 17,
     "metadata": {},
     "output_type": "execute_result"
    },
    {
     "data": {
      "image/png": "[encoded data removed]",
      "text/plain": [
       "<Figure size 432x288 with 1 Axes>"
      ]
     },
     "metadata": {
      "needs_background": "light"
     },
     "output_type": "display_data"
    }
   ],
   "source": [
    "x_axis = []\n",
    "y_axis = []\n",
    "for c in [100, 50, 25, 10, 5, 1.0, 0.1, 0.01]:\n",
    "    model = LogisticRegression(C=c, max_iter=3000)\n",
    "    model.fit(X_train_CountVectorizer, y_train)\n",
    "    accuracy = model.score(X_test_CountVectorizer, y_test)\n",
    "    x_axis.append(c)\n",
    "    y_axis.append(accuracy)\n",
    "    \n",
    "plt.close()\n",
    "plt.xlabel(\"accuracy\")\n",
    "plt.ylabel(\"C\")\n",
    "plt.plot(x_axis, y_axis)"
   ]
  },
  {
   "cell_type": "markdown",
   "id": "6b732d9a",
   "metadata": {},
   "source": [
    "Виждаме, че с увеличаване на C резултатите намаляват. Сега ще използваме TfidfVectorizer за трансформиране на текста."
   ]
  },
  {
   "cell_type": "code",
   "execution_count": 39,
   "id": "068758a5",
   "metadata": {},
   "outputs": [],
   "source": [
    "vectorizer = TfidfVectorizer()\n",
    "X_train_TfidfVectorizer = vectorizer.fit_transform(X_train_before_vectorizing)\n",
    "X_test_TfidfVectorizerr = vectorizer.transform(X_test_before_vectorizing)"
   ]
  },
  {
   "cell_type": "code",
   "execution_count": 48,
   "id": "083dae89",
   "metadata": {},
   "outputs": [
    {
     "name": "stdout",
     "output_type": "stream",
     "text": [
      "Accuracy: 0.875\n"
     ]
    }
   ],
   "source": [
    "model = LogisticRegression()\n",
    "model.fit(X_train_TfidfVectorizer, y_train)\n",
    "accuracy = model.score(X_test_TfidfVectorizerr, y_test)\n",
    "print('Accuracy: {:.3f}'.format(accuracy))"
   ]
  },
  {
   "cell_type": "markdown",
   "id": "3fed0105",
   "metadata": {},
   "source": [
    "Виждаме, че TfidfVectorizer имаме малко по-добри резултати."
   ]
  },
  {
   "cell_type": "code",
   "execution_count": 11,
   "id": "280ef5ee",
   "metadata": {},
   "outputs": [
    {
     "data": {
      "text/plain": [
       "[<matplotlib.lines.Line2D at 0x231ca41c700>]"
      ]
     },
     "execution_count": 11,
     "metadata": {},
     "output_type": "execute_result"
    },
    {
     "data": {
      "image/png": "[encoded data removed]",
      "text/plain": [
       "<Figure size 432x288 with 1 Axes>"
      ]
     },
     "metadata": {
      "needs_background": "light"
     },
     "output_type": "display_data"
    }
   ],
   "source": [
    "x_axis = []\n",
    "y_axis = []\n",
    "for c in [100, 50, 25, 10, 5, 1.0, 0.1, 0.01]:\n",
    "    model = LogisticRegression(C=c, max_iter=3000)\n",
    "    model.fit(X_train_TfidfVectorizer, y_train)\n",
    "    accuracy = model.score(X_test_TfidfVectorizerr, y_test)\n",
    "    x_axis.append(c)\n",
    "    y_axis.append(accuracy)\n",
    "\n",
    "plt.close()\n",
    "plt.plot(x_axis, y_axis)    "
   ]
  },
  {
   "cell_type": "code",
   "execution_count": null,
   "id": "e5544eec",
   "metadata": {},
   "outputs": [],
   "source": [
    "За разлика от CountVectorizer, тука виждаме, че при прекалена ниска стойност на C, резултатите\n",
    "спадат драстично, а при C>1 са приблизителни."
   ]
  },
  {
   "cell_type": "code",
   "execution_count": 40,
   "id": "51ec2b42",
   "metadata": {},
   "outputs": [
    {
     "name": "stdout",
     "output_type": "stream",
     "text": [
      "Accuracy: 0.832\n",
      "Accuracy: 0.848\n",
      "Accuracy: 0.856\n",
      "Accuracy: 0.862\n",
      "Accuracy: 0.868\n",
      "Accuracy: 0.871\n",
      "Accuracy: 0.874\n",
      "Accuracy: 0.876\n",
      "Accuracy: 0.878\n",
      "Accuracy: 0.879\n",
      "Accuracy: 0.827\n"
     ]
    }
   ],
   "source": [
    "for alpha in [0.1, 0.2, 0.3, 0.4, 0.5, 0.6, 0.7, 0.8, 0.9, 1.0,100]:\n",
    "    model = RidgeClassifier(alpha=alpha)\n",
    "    model.fit(X_train_TfidfVectorizer, y_train)\n",
    "    accuracy = model.score(X_test_TfidfVectorizerr, y_test)\n",
    "    print('Accuracy: {:.3f}'.format(accuracy))"
   ]
  },
  {
   "cell_type": "code",
   "execution_count": 41,
   "id": "8ca797c5",
   "metadata": {},
   "outputs": [
    {
     "name": "stdout",
     "output_type": "stream",
     "text": [
      "Accuracy: 0.879\n"
     ]
    }
   ],
   "source": [
    "model = RidgeClassifier()\n",
    "model.fit(X_train_TfidfVectorizer, y_train)\n",
    "accuracy = model.score(X_test_TfidfVectorizerr, y_test)\n",
    "print('Accuracy: {:.3f}'.format(accuracy))"
   ]
  },
  {
   "cell_type": "code",
   "execution_count": 42,
   "id": "07667ea9",
   "metadata": {},
   "outputs": [
    {
     "name": "stdout",
     "output_type": "stream",
     "text": [
      "Accuracy with alpha = 0.10 : 0.832\n",
      "Accuracy with alpha = 0.30 : 0.856\n",
      "Accuracy with alpha = 0.50 : 0.868\n",
      "Accuracy with alpha = 0.70 : 0.874\n",
      "Accuracy with alpha = 0.90 : 0.878\n"
     ]
    }
   ],
   "source": [
    "for i in [0.1, 0.3, 0.5, 0.7, 0.9]:\n",
    "    model = linear_model.RidgeClassifier(alpha=i)\n",
    "    model.fit(X_train_TfidfVectorizer, y_train)\n",
    "    accuracy = model.score(X_test_TfidfVectorizerr, y_test)\n",
    "    print('Accuracy with alpha = {:.2f} : {:.3f}'.format(i, accuracy))"
   ]
  },
  {
   "cell_type": "code",
   "execution_count": null,
   "id": "102e82a6",
   "metadata": {},
   "outputs": [],
   "source": [
    "Ще видим как ще се справи модела с различни параметри на vectorizer-ите"
   ]
  },
  {
   "cell_type": "code",
   "execution_count": 43,
   "id": "06286803",
   "metadata": {},
   "outputs": [],
   "source": [
    "vectorizer = TfidfVectorizer(ngram_range = (1, 3))\n",
    "X_train_TfidfVectorizer = vectorizer.fit_transform(X_train_before_vectorizing)\n",
    "X_test_TfidfVectorizerr = vectorizer.transform(X_test_before_vectorizing)"
   ]
  },
  {
   "cell_type": "code",
   "execution_count": 44,
   "id": "a491663e",
   "metadata": {},
   "outputs": [
    {
     "name": "stdout",
     "output_type": "stream",
     "text": [
      "Accuracy with alpha = 0.10 : 0.905\n",
      "Accuracy with alpha = 0.30 : 0.904\n",
      "Accuracy with alpha = 0.50 : 0.903\n",
      "Accuracy with alpha = 0.70 : 0.901\n",
      "Accuracy with alpha = 0.90 : 0.900\n"
     ]
    }
   ],
   "source": [
    "for i in [0.1, 0.3, 0.5, 0.7, 0.9]:\n",
    "    model = linear_model.RidgeClassifier(alpha=i)\n",
    "    model.fit(X_train_TfidfVectorizer, y_train)\n",
    "    accuracy = model.score(X_test_TfidfVectorizerr, y_test)\n",
    "    print('Accuracy with alpha = {:.2f} : {:.3f}'.format(i, accuracy))"
   ]
  },
  {
   "cell_type": "markdown",
   "id": "3402c1d5",
   "metadata": {},
   "source": [
    "Тъй като видяхме, че има подобрение с промяната на параметъра ngram_range, ще изробваме няколко различни комбинации."
   ]
  },
  {
   "cell_type": "code",
   "execution_count": 57,
   "id": "a5986166",
   "metadata": {},
   "outputs": [],
   "source": [
    "ngram_range_possibilities = []\n",
    "for i in range(4):\n",
    "    for j in range(4):\n",
    "        if i <= j:\n",
    "            ngram_range_possibilities.append((i + 1, j + 1))"
   ]
  },
  {
   "cell_type": "code",
   "execution_count": 64,
   "id": "94d6de0c",
   "metadata": {},
   "outputs": [
    {
     "name": "stdout",
     "output_type": "stream",
     "text": [
      "Results with  ngrange = (1, 1)\n",
      "Accuracy with alpha = 0.10 : 0.832\n",
      "Accuracy with alpha = 0.30 : 0.856\n",
      "Accuracy with alpha = 0.50 : 0.868\n",
      "Accuracy with alpha = 0.70 : 0.874\n",
      "Accuracy with alpha = 0.90 : 0.878\n",
      "Results with  ngrange = (1, 2)\n",
      "Accuracy with alpha = 0.10 : 0.899\n",
      "Accuracy with alpha = 0.30 : 0.901\n",
      "Accuracy with alpha = 0.50 : 0.902\n",
      "Accuracy with alpha = 0.70 : 0.902\n",
      "Accuracy with alpha = 0.90 : 0.902\n",
      "Results with  ngrange = (1, 3)\n",
      "Accuracy with alpha = 0.10 : 0.905\n",
      "Accuracy with alpha = 0.30 : 0.904\n",
      "Accuracy with alpha = 0.50 : 0.903\n",
      "Accuracy with alpha = 0.70 : 0.901\n",
      "Accuracy with alpha = 0.90 : 0.900\n",
      "Results with  ngrange = (1, 4)\n",
      "Accuracy with alpha = 0.10 : 0.902\n",
      "Accuracy with alpha = 0.30 : 0.899\n",
      "Accuracy with alpha = 0.50 : 0.897\n",
      "Accuracy with alpha = 0.70 : 0.895\n",
      "Accuracy with alpha = 0.90 : 0.893\n",
      "Results with  ngrange = (2, 2)\n",
      "Accuracy with alpha = 0.10 : 0.888\n",
      "Accuracy with alpha = 0.30 : 0.888\n",
      "Accuracy with alpha = 0.50 : 0.889\n",
      "Accuracy with alpha = 0.70 : 0.888\n",
      "Accuracy with alpha = 0.90 : 0.887\n",
      "Results with  ngrange = (2, 3)\n",
      "Accuracy with alpha = 0.10 : 0.889\n",
      "Accuracy with alpha = 0.30 : 0.887\n",
      "Accuracy with alpha = 0.50 : 0.884\n",
      "Accuracy with alpha = 0.70 : 0.882\n",
      "Accuracy with alpha = 0.90 : 0.880\n",
      "Results with  ngrange = (2, 4)\n",
      "Accuracy with alpha = 0.10 : 0.884\n",
      "Accuracy with alpha = 0.30 : 0.881\n",
      "Accuracy with alpha = 0.50 : 0.878\n",
      "Accuracy with alpha = 0.70 : 0.876\n",
      "Accuracy with alpha = 0.90 : 0.874\n",
      "Results with  ngrange = (3, 3)\n",
      "Accuracy with alpha = 0.10 : 0.857\n",
      "Accuracy with alpha = 0.30 : 0.855\n",
      "Accuracy with alpha = 0.50 : 0.853\n",
      "Accuracy with alpha = 0.70 : 0.852\n",
      "Accuracy with alpha = 0.90 : 0.850\n",
      "Results with  ngrange = (3, 4)\n",
      "Accuracy with alpha = 0.10 : 0.851\n",
      "Accuracy with alpha = 0.30 : 0.848\n",
      "Accuracy with alpha = 0.50 : 0.847\n",
      "Accuracy with alpha = 0.70 : 0.845\n",
      "Accuracy with alpha = 0.90 : 0.843\n",
      "Results with  ngrange = (4, 4)\n",
      "Accuracy with alpha = 0.10 : 0.803\n",
      "Accuracy with alpha = 0.30 : 0.802\n",
      "Accuracy with alpha = 0.50 : 0.801\n",
      "Accuracy with alpha = 0.70 : 0.800\n",
      "Accuracy with alpha = 0.90 : 0.799\n"
     ]
    }
   ],
   "source": [
    "for ngram_range in ngram_range_possibilities:\n",
    "    vectorizer = TfidfVectorizer(ngram_range = ngram_range)\n",
    "    X_train_TfidfVectorizer = vectorizer.fit_transform(X_train_before_vectorizing)\n",
    "    X_test_TfidfVectorizerr = vectorizer.transform(X_test_before_vectorizing)\n",
    "    print(\"Results with  ngrange = {0}\".format(ngram_range))\n",
    "    for i in [0.1, 0.3, 0.5, 0.7, 0.9]:\n",
    "        model = linear_model.RidgeClassifier(alpha=i)\n",
    "        model.fit(X_train_TfidfVectorizer, y_train)\n",
    "        accuracy = model.score(X_test_TfidfVectorizerr, y_test)\n",
    "        print('Accuracy with alpha = {:.2f} : {:.3f}'.format(i, accuracy))"
   ]
  },
  {
   "cell_type": "markdown",
   "id": "73355105",
   "metadata": {},
   "source": [
    "Резултатите с ngrange = (1,3) са най-добри, като всички надхвърлят 90%."
   ]
  },
  {
   "cell_type": "code",
   "execution_count": 45,
   "id": "ee85f69b",
   "metadata": {},
   "outputs": [],
   "source": [
    "vectorizer = CountVectorizer(ngram_range = (1, 3))\n",
    "X_train_CountVectorizer = vectorizer.fit_transform(X_train_before_vectorizing)\n",
    "X_test_CountVectorizer = vectorizer.transform(X_test_before_vectorizing)"
   ]
  },
  {
   "cell_type": "code",
   "execution_count": 65,
   "id": "1577c973",
   "metadata": {},
   "outputs": [
    {
     "name": "stdout",
     "output_type": "stream",
     "text": [
      "Results with  ngrange = (1, 1)\n",
      "Accuracy with alpha = 0.10 : 0.744\n",
      "Accuracy with alpha = 0.30 : 0.758\n",
      "Accuracy with alpha = 0.50 : 0.767\n",
      "Accuracy with alpha = 0.70 : 0.774\n",
      "Accuracy with alpha = 0.90 : 0.779\n",
      "Results with  ngrange = (1, 2)\n",
      "Accuracy with alpha = 0.10 : 0.870\n",
      "Accuracy with alpha = 0.30 : 0.870\n",
      "Accuracy with alpha = 0.50 : 0.870\n",
      "Accuracy with alpha = 0.70 : 0.871\n",
      "Accuracy with alpha = 0.90 : 0.871\n",
      "Results with  ngrange = (1, 3)\n",
      "Accuracy with alpha = 0.10 : 0.891\n",
      "Accuracy with alpha = 0.30 : 0.891\n",
      "Accuracy with alpha = 0.50 : 0.891\n",
      "Accuracy with alpha = 0.70 : 0.891\n",
      "Accuracy with alpha = 0.90 : 0.891\n",
      "Results with  ngrange = (1, 4)\n",
      "Accuracy with alpha = 0.10 : 0.896\n",
      "Accuracy with alpha = 0.30 : 0.896\n",
      "Accuracy with alpha = 0.50 : 0.895\n",
      "Accuracy with alpha = 0.70 : 0.895\n",
      "Accuracy with alpha = 0.90 : 0.895\n",
      "Results with  ngrange = (2, 2)\n",
      "Accuracy with alpha = 0.10 : 0.861\n",
      "Accuracy with alpha = 0.30 : 0.861\n",
      "Accuracy with alpha = 0.50 : 0.861\n",
      "Accuracy with alpha = 0.70 : 0.862\n",
      "Accuracy with alpha = 0.90 : 0.862\n",
      "Results with  ngrange = (2, 3)\n",
      "Accuracy with alpha = 0.10 : 0.878\n",
      "Accuracy with alpha = 0.30 : 0.878\n",
      "Accuracy with alpha = 0.50 : 0.878\n",
      "Accuracy with alpha = 0.70 : 0.878\n",
      "Accuracy with alpha = 0.90 : 0.878\n",
      "Results with  ngrange = (2, 4)\n",
      "Accuracy with alpha = 0.10 : 0.879\n",
      "Accuracy with alpha = 0.30 : 0.879\n",
      "Accuracy with alpha = 0.50 : 0.879\n",
      "Accuracy with alpha = 0.70 : 0.879\n",
      "Accuracy with alpha = 0.90 : 0.879\n",
      "Results with  ngrange = (3, 3)\n",
      "Accuracy with alpha = 0.10 : 0.839\n",
      "Accuracy with alpha = 0.30 : 0.839\n",
      "Accuracy with alpha = 0.50 : 0.839\n",
      "Accuracy with alpha = 0.70 : 0.839\n",
      "Accuracy with alpha = 0.90 : 0.839\n",
      "Results with  ngrange = (3, 4)\n",
      "Accuracy with alpha = 0.10 : 0.836\n",
      "Accuracy with alpha = 0.30 : 0.836\n",
      "Accuracy with alpha = 0.50 : 0.836\n",
      "Accuracy with alpha = 0.70 : 0.836\n",
      "Accuracy with alpha = 0.90 : 0.836\n",
      "Results with  ngrange = (4, 4)\n",
      "Accuracy with alpha = 0.10 : 0.775\n",
      "Accuracy with alpha = 0.30 : 0.775\n",
      "Accuracy with alpha = 0.50 : 0.775\n",
      "Accuracy with alpha = 0.70 : 0.775\n",
      "Accuracy with alpha = 0.90 : 0.775\n"
     ]
    }
   ],
   "source": [
    "for ngram_range in ngram_range_possibilities:\n",
    "    vectorizer = CountVectorizer(ngram_range = ngram_range)\n",
    "    X_train_CountVectorizer = vectorizer.fit_transform(X_train_before_vectorizing)\n",
    "    X_test_CountVectorizer = vectorizer.transform(X_test_before_vectorizing)\n",
    "    print(\"Results with  ngrange = {0}\".format(ngram_range))\n",
    "    for i in [0.1, 0.3, 0.5, 0.7, 0.9]:\n",
    "        model = linear_model.RidgeClassifier(alpha=i)\n",
    "        model.fit(X_train_CountVectorizer, y_train)\n",
    "        accuracy = model.score(X_test_CountVectorizer, y_test)\n",
    "        print('Accuracy with alpha = {:.2f} : {:.3f}'.format(i, accuracy))"
   ]
  },
  {
   "cell_type": "markdown",
   "id": "969c7f6b",
   "metadata": {},
   "source": [
    "Виждаме, че използвайки TfIdf vectorizer-a с различен ngrange_range, дава по-добри резултати, за разлика от countVectorize.  Резултатите са доста добри, но нека пробваме и с други алгоритми, като например\n",
    "Найвен Бейсов и MLPClassifier."
   ]
  },
  {
   "cell_type": "code",
   "execution_count": 72,
   "id": "e7c864c6",
   "metadata": {},
   "outputs": [],
   "source": [
    "X_train_before_vectorizing = []\n",
    "y_train = []\n",
    "X_test_before_vectorizing = []\n",
    "y_test = []\n",
    "\n",
    "for sentiment in ['pos', 'neg']:\n",
    "  path = os.path.join('aclImdb', 'train', sentiment)\n",
    "  for file in os.listdir(path):\n",
    "    with open(os.path.join(path, file), 'r', encoding='utf8') as f:\n",
    "      review = f.read()\n",
    "      review = preprocess(review)\n",
    "      X_train_before_vectorizing.append(review)\n",
    "      y_train.append(1 if sentiment == 'pos' else 0)\n",
    "\n",
    "for sentiment in ['pos', 'neg']:\n",
    "  path = os.path.join('aclImdb', 'test', sentiment)\n",
    "  for file in os.listdir(path):\n",
    "    with open(os.path.join(path, file), 'r', encoding='utf8') as f:\n",
    "      review = f.read()\n",
    "      review = preprocess(review)\n",
    "      X_test_before_vectorizing.append(review)\n",
    "      y_test.append(1 if sentiment == 'pos' else 0)\n",
    "        \n",
    "\n",
    "vectorizer = TfidfVectorizer(ngram_range = (1, 3))\n",
    "X_train_TfidfVectorizer = vectorizer.fit_transform(X_train_before_vectorizing)\n",
    "X_test_TfidfVectorizerr = vectorizer.transform(X_test_before_vectorizing)"
   ]
  },
  {
   "cell_type": "code",
   "execution_count": 73,
   "id": "27310e22",
   "metadata": {},
   "outputs": [
    {
     "name": "stdout",
     "output_type": "stream",
     "text": [
      "Accuracy:  0.87852\n"
     ]
    }
   ],
   "source": [
    "clf = MultinomialNB()\n",
    "clf.fit(X_train_TfidfVectorizer, y_train)\n",
    "\n",
    "accuracy = clf.score(X_test_TfidfVectorizerr, y_test)\n",
    "print(\"Accuracy: \", accuracy)"
   ]
  },
  {
   "cell_type": "code",
   "execution_count": 74,
   "id": "385861ff",
   "metadata": {},
   "outputs": [
    {
     "name": "stdout",
     "output_type": "stream",
     "text": [
      "Accuracy:  0.90488\n"
     ]
    }
   ],
   "source": [
    "clf = MLPClassifier(hidden_layer_sizes=(10,), activation='relu', max_iter=100)\n",
    "clf.fit(X_train_TfidfVectorizer, y_train)\n",
    "accuracy = clf.score(X_test_TfidfVectorizerr, y_test)\n",
    "print(\"Accuracy: \", accuracy)"
   ]
  },
  {
   "cell_type": "markdown",
   "id": "9c21ffce",
   "metadata": {},
   "source": [
    "За разлика от Бейсовия класификатор, невронната мрежа се спрая по-добре.\n",
    "Нека пробваме със стемиране и лематизация"
   ]
  },
  {
   "cell_type": "code",
   "execution_count": 5,
   "id": "6dfb41aa",
   "metadata": {},
   "outputs": [],
   "source": [
    "def stem_text(text):\n",
    "    stemmer = PorterStemmer()\n",
    "    words = word_tokenize(text)\n",
    "    stemmed_words = [stemmer.stem(word) for word in words]\n",
    "    words = ' '.join([c for c in stemmed_words])\n",
    "    return words\n",
    "\n",
    "def lemmatize_text(text):\n",
    "    lemmatizer = WordNetLemmatizer()\n",
    "    stop_words = set(stopwords.words('english'))\n",
    "    words = nltk.word_tokenize(text)\n",
    "    words = [word.lower() for word in words if word.isalpha()]\n",
    "    words = [word for word in words if word not in stop_words]\n",
    "    words = [lemmatizer.lemmatize(word) for word in words]\n",
    "    words = ' '.join([c for c in words])\n",
    "    return words"
   ]
  },
  {
   "cell_type": "markdown",
   "id": "b6553ee6",
   "metadata": {},
   "source": [
    "Първо да пробваме само със стемиране"
   ]
  },
  {
   "cell_type": "code",
   "execution_count": 16,
   "id": "682e99ba",
   "metadata": {},
   "outputs": [],
   "source": [
    "X_train_before_vectorizing = []\n",
    "y_train = []\n",
    "X_test_before_vectorizing = []\n",
    "y_test = []\n",
    "\n",
    "\n",
    "for sentiment in ['pos', 'neg']:\n",
    "  path = os.path.join('aclImdb', 'train', sentiment)\n",
    "  for file in os.listdir(path):\n",
    "    with open(os.path.join(path, file), 'r', encoding='utf8') as f:\n",
    "      review = f.read()\n",
    "      review = stem_text(review)\n",
    "      X_train_before_vectorizing.append(review)\n",
    "      y_train.append(1 if sentiment == 'pos' else 0)\n",
    "\n",
    "for sentiment in ['pos', 'neg']:\n",
    "  path = os.path.join('aclImdb', 'test', sentiment)\n",
    "  for file in os.listdir(path):\n",
    "    with open(os.path.join(path, file), 'r', encoding='utf8') as f:\n",
    "      review = f.read()\n",
    "      review = stem_text(review)\n",
    "      X_test_before_vectorizing.append(review)\n",
    "      y_test.append(1 if sentiment == 'pos' else 0)"
   ]
  },
  {
   "cell_type": "code",
   "execution_count": 17,
   "id": "ad6e4d0c",
   "metadata": {},
   "outputs": [],
   "source": [
    "vectorizer = CountVectorizer(ngram_range = (1, 3), stop_words='english')\n",
    "X_train_CountVectorizer = vectorizer.fit_transform(X_train_before_vectorizing)\n",
    "X_test_CountVectorizer = vectorizer.transform(X_test_before_vectorizing)"
   ]
  },
  {
   "cell_type": "code",
   "execution_count": 20,
   "id": "979d475b",
   "metadata": {},
   "outputs": [
    {
     "name": "stdout",
     "output_type": "stream",
     "text": [
      "Accuracy: 0.882\n"
     ]
    }
   ],
   "source": [
    "model = LogisticRegression(max_iter=3000)\n",
    "model.fit(X_train_CountVectorizer, y_train)\n",
    "accuracy = model.score(X_test_CountVectorizer, y_test)\n",
    "print('Accuracy: {:.3f}'.format(accuracy)) "
   ]
  },
  {
   "cell_type": "code",
   "execution_count": 22,
   "id": "fd3e1dd9",
   "metadata": {},
   "outputs": [],
   "source": [
    "vectorizer = TfidfVectorizer(ngram_range = (1, 3))\n",
    "X_train_TfidfVectorizer = vectorizer.fit_transform(X_train_before_vectorizing)\n",
    "X_test_TfidfVectorizerr = vectorizer.transform(X_test_before_vectorizing)"
   ]
  },
  {
   "cell_type": "code",
   "execution_count": 23,
   "id": "c03e14ce",
   "metadata": {},
   "outputs": [
    {
     "name": "stdout",
     "output_type": "stream",
     "text": [
      "Accuracy: 0.878\n"
     ]
    }
   ],
   "source": [
    "model = LogisticRegression(max_iter=3000)\n",
    "model.fit(X_train_TfidfVectorizer, y_train)\n",
    "accuracy = model.score(X_test_TfidfVectorizerr, y_test)\n",
    "print('Accuracy: {:.3f}'.format(accuracy))"
   ]
  },
  {
   "cell_type": "code",
   "execution_count": 24,
   "id": "05739dbd",
   "metadata": {},
   "outputs": [
    {
     "name": "stdout",
     "output_type": "stream",
     "text": [
      "Accuracy with Tfidf: 0.900\n",
      "Accuracy with count vectorizer: 0.873\n"
     ]
    }
   ],
   "source": [
    "model = linear_model.RidgeClassifier()\n",
    "model.fit(X_train_TfidfVectorizer, y_train)\n",
    "accuracy = model.score(X_test_TfidfVectorizerr, y_test)\n",
    "print('Accuracy with Tfidf: {:.3f}'.format(accuracy))\n",
    "\n",
    "model.fit(X_train_CountVectorizer, y_train)\n",
    "accuracy = model.score(X_test_CountVectorizer, y_test)\n",
    "print('Accuracy with count vectorizer: {:.3f}'.format(accuracy))"
   ]
  },
  {
   "cell_type": "code",
   "execution_count": null,
   "id": "9cf02a07",
   "metadata": {},
   "outputs": [],
   "source": [
    "for i in [0.1, 0.3, 0.5, 0.7, 0.9]:\n",
    "    model = linear_model.RidgeClassifier(alpha=i)\n",
    "    model.fit(X_train_TfidfVectorizer, y_train)\n",
    "    accuracy = model.score(X_test_TfidfVectorizerr, y_test)\n",
    "    print('Accuracy with alpha = {:.2f} : {:.3f}'.format(i, accuracy))"
   ]
  },
  {
   "cell_type": "markdown",
   "id": "0eac8d4e",
   "metadata": {},
   "source": [
    "Сега да пробваме с лематизация"
   ]
  },
  {
   "cell_type": "code",
   "execution_count": 25,
   "id": "c35520fa",
   "metadata": {},
   "outputs": [],
   "source": [
    "X_train_before_vectorizing = []\n",
    "y_train = []\n",
    "X_test_before_vectorizing = []\n",
    "y_test = []\n",
    "\n",
    "\n",
    "for sentiment in ['pos', 'neg']:\n",
    "  path = os.path.join('aclImdb', 'train', sentiment)\n",
    "  for file in os.listdir(path):\n",
    "    with open(os.path.join(path, file), 'r', encoding='utf8') as f:\n",
    "      review = f.read()\n",
    "      review = lemmatize_text(review)\n",
    "      X_train_before_vectorizing.append(review)\n",
    "      y_train.append(1 if sentiment == 'pos' else 0)\n",
    "\n",
    "for sentiment in ['pos', 'neg']:\n",
    "  path = os.path.join('aclImdb', 'test', sentiment)\n",
    "  for file in os.listdir(path):\n",
    "    with open(os.path.join(path, file), 'r', encoding='utf8') as f:\n",
    "      review = f.read()\n",
    "      review = lemmatize_text(review)\n",
    "      X_test_before_vectorizing.append(review)\n",
    "      y_test.append(1 if sentiment == 'pos' else 0)"
   ]
  },
  {
   "cell_type": "code",
   "execution_count": 26,
   "id": "d53e8820",
   "metadata": {},
   "outputs": [],
   "source": [
    "vectorizer = CountVectorizer(ngram_range = (1, 3), stop_words='english')\n",
    "X_train_CountVectorizer = vectorizer.fit_transform(X_train_before_vectorizing)\n",
    "X_test_CountVectorizer = vectorizer.transform(X_test_before_vectorizing)"
   ]
  },
  {
   "cell_type": "code",
   "execution_count": 27,
   "id": "772c29f2",
   "metadata": {},
   "outputs": [
    {
     "name": "stdout",
     "output_type": "stream",
     "text": [
      "Accuracy: 0.876\n"
     ]
    }
   ],
   "source": [
    "model = LogisticRegression(max_iter=3000)\n",
    "model.fit(X_train_CountVectorizer, y_train)\n",
    "accuracy = model.score(X_test_CountVectorizer, y_test)\n",
    "print('Accuracy with countVectorizer: {:.3f}'.format(accuracy)) "
   ]
  },
  {
   "cell_type": "code",
   "execution_count": 28,
   "id": "22bd0853",
   "metadata": {},
   "outputs": [],
   "source": [
    "vectorizer = TfidfVectorizer(ngram_range = (1, 3))\n",
    "X_train_TfidfVectorizer = vectorizer.fit_transform(X_train_before_vectorizing)\n",
    "X_test_TfidfVectorizerr = vectorizer.transform(X_test_before_vectorizing)"
   ]
  },
  {
   "cell_type": "code",
   "execution_count": 29,
   "id": "6f509bb1",
   "metadata": {},
   "outputs": [
    {
     "name": "stdout",
     "output_type": "stream",
     "text": [
      "Accuracy: 0.868\n"
     ]
    }
   ],
   "source": [
    "model = LogisticRegression(max_iter=3000)\n",
    "model.fit(X_train_TfidfVectorizer, y_train)\n",
    "accuracy = model.score(X_test_TfidfVectorizerr, y_test)\n",
    "print('Accuracy: {:.3f}'.format(accuracy))"
   ]
  },
  {
   "cell_type": "code",
   "execution_count": 30,
   "id": "58456102",
   "metadata": {},
   "outputs": [
    {
     "name": "stdout",
     "output_type": "stream",
     "text": [
      "Accuracy with Tfidf: 0.885\n",
      "Accuracy with count vectorizer: 0.865\n"
     ]
    }
   ],
   "source": [
    "model = linear_model.RidgeClassifier()\n",
    "model.fit(X_train_TfidfVectorizer, y_train)\n",
    "accuracy = model.score(X_test_TfidfVectorizerr, y_test)\n",
    "print('Accuracy with Tfidf: {:.3f}'.format(accuracy))\n",
    "\n",
    "model.fit(X_train_CountVectorizer, y_train)\n",
    "accuracy = model.score(X_test_CountVectorizer, y_test)\n",
    "print('Accuracy with count vectorizer: {:.3f}'.format(accuracy))"
   ]
  },
  {
   "cell_type": "code",
   "execution_count": 34,
   "id": "3f4cc1a3",
   "metadata": {
    "scrolled": true
   },
   "outputs": [
    {
     "name": "stdout",
     "output_type": "stream",
     "text": [
      "Accuracy with alpha = 0.10 : 0.887\n",
      "Accuracy with alpha = 0.30 : 0.888\n",
      "Accuracy with alpha = 0.50 : 0.887\n",
      "Accuracy with alpha = 0.70 : 0.887\n",
      "Accuracy with alpha = 0.90 : 0.886\n"
     ]
    }
   ],
   "source": [
    "for i in [ 0.1, 0.3, 0.5, 0.7, 0.9]:\n",
    "    model = linear_model.RidgeClassifier(alpha=i)\n",
    "    model.fit(X_train_TfidfVectorizer, y_train)\n",
    "    accuracy = model.score(X_test_TfidfVectorizerr, y_test)\n",
    "    print('Accuracy with alpha = {:.2f} : {:.3f}'.format(i, accuracy))"
   ]
  },
  {
   "cell_type": "code",
   "execution_count": 28,
   "id": "fae0af28",
   "metadata": {},
   "outputs": [],
   "source": [
    "X_train = []\n",
    "y_train = []\n",
    "X_test = []\n",
    "y_test = []\n",
    "\n",
    "for sentiment in ['pos', 'neg']:\n",
    "  path = os.path.join('aclImdb', 'train', sentiment)\n",
    "  for file in os.listdir(path):\n",
    "    with open(os.path.join(path, file), 'r', encoding='utf8') as f:\n",
    "      review = f.read()\n",
    "      X_train.append(review)\n",
    "      y_train.append(1 if sentiment == 'pos' else 0)\n",
    "\n",
    "for sentiment in ['pos', 'neg']:\n",
    "  path = os.path.join('aclImdb', 'test', sentiment)\n",
    "  for file in os.listdir(path):\n",
    "    with open(os.path.join(path, file), 'r', encoding='utf8') as f:\n",
    "      review = f.read()\n",
    "      X_test.append(review)\n",
    "      y_test.append(1 if sentiment == 'pos' else 0)\n",
    "\n",
    "\n"
   ]
  },
  {
   "cell_type": "code",
   "execution_count": 38,
   "id": "b92a6265",
   "metadata": {
    "scrolled": true
   },
   "outputs": [
    {
     "name": "stdout",
     "output_type": "stream",
     "text": [
      "                                              review  sentiment\n",
      "0  Bromwell High is a cartoon comedy. It ran at t...          1\n",
      "1  Homelessness (or Houselessness as George Carli...          1\n",
      "2  Brilliant over-acting by Lesley Ann Warren. Be...          1\n",
      "3  This is easily the most underrated film inn th...          1\n",
      "4  This is not the typical Mel Brooks film. It wa...          1\n",
      "5  This isn't the comedic Robin Williams, nor is ...          1\n",
      "6  Yes its an art... to successfully make a slow ...          1\n",
      "7  In this \"critically acclaimed psychological th...          1\n",
      "8  THE NIGHT LISTENER (2006) **1/2 Robin Williams...          1\n",
      "9  You know, Robin Williams, God bless him, is co...          1\n"
     ]
    }
   ],
   "source": [
    "import pandas as pd\n",
    "\n",
    "X_train = []\n",
    "y_train = []\n",
    "X_test = []\n",
    "y_test = []\n",
    "\n",
    "for sentiment in ['pos', 'neg']:\n",
    "  path = os.path.join('aclImdb', 'train', sentiment)\n",
    "  for file in os.listdir(path):\n",
    "    with open(os.path.join(path, file), 'r', encoding='utf8') as f:\n",
    "      review = f.read()\n",
    "      X_train.append(review)\n",
    "      y_train.append(1 if sentiment == 'pos' else 0)\n",
    "\n",
    "for sentiment in ['pos', 'neg']:\n",
    "  path = os.path.join('aclImdb', 'test', sentiment)\n",
    "  for file in os.listdir(path):\n",
    "    with open(os.path.join(path, file), 'r', encoding='utf8') as f:\n",
    "      review = f.read()\n",
    "      X_test.append(review)\n",
    "      y_test.append(1 if sentiment == 'pos' else 0)\n",
    "\n",
    "all_reviews = X_train + X_test\n",
    "all_sentiments = y_train + y_test\n",
    "\n",
    "df = pd.DataFrame({\n",
    "    'review':all_reviews,\n",
    "    'sentiment':all_sentiments})\n",
    "\n",
    "print(df.head(10))\n"
   ]
  },
  {
   "cell_type": "code",
   "execution_count": 59,
   "id": "3d3ca35e",
   "metadata": {},
   "outputs": [
    {
     "name": "stdout",
     "output_type": "stream",
     "text": [
      "50000\n"
     ]
    }
   ],
   "source": [
    "print(len(all_reviews))\n"
   ]
  },
  {
   "cell_type": "code",
   "execution_count": 57,
   "id": "6356fc8d",
   "metadata": {},
   "outputs": [
    {
     "name": "stdout",
     "output_type": "stream",
     "text": [
      "50000\n"
     ]
    }
   ],
   "source": [
    "X_train = df.loc[:24999,'review'].values\n",
    "X_test = df.loc[25000:,'review'].values\n",
    "\n",
    "y_train = df.loc[:24999,'sentiment'].values\n",
    "y_test = df.loc[25000:,'sentiment'].values\n",
    "\n"
   ]
  },
  {
   "cell_type": "code",
   "execution_count": 58,
   "id": "f021c307",
   "metadata": {},
   "outputs": [],
   "source": [
    "\n",
    "from keras.preprocessing.text import Tokenizer\n",
    "from keras.utils import pad_sequences\n",
    "\n",
    "total_reviews = []\n",
    "total_reviews.extend(X_train)\n",
    "total_reviews.extend(X_test)\n",
    "\n",
    "tokenizer = Tokenizer()\n",
    "tokenizer.fit_on_texts(total_reviews)\n",
    "\n",
    "max_length = max([len(s.split())for s in total_reviews])\n",
    "vocab_size=len(tokenizer.word_index) +1\n",
    "\n",
    "X_train_tokens = tokenizer.texts_to_sequences(X_train)\n",
    "X_test_tokens = tokenizer.texts_to_sequences(X_test)\n",
    "\n",
    "X_train_pad = pad_sequences(X_train_tokens, maxlen=max_length, padding='post')\n",
    "X_test_pad = pad_sequences(X_test_tokens, maxlen=max_length, padding='post')\n"
   ]
  },
  {
   "cell_type": "code",
   "execution_count": 60,
   "id": "b9cece8a",
   "metadata": {},
   "outputs": [],
   "source": [
    "\n",
    "import string\n",
    "from nltk.tokenize import word_tokenize\n",
    "from nltk.corpus import stopwords\n",
    "review_lines = list()\n",
    "lines = df['review'].values.tolist()\n",
    "\n",
    "for line in lines:\n",
    "    tokens = word_tokenize(line)\n",
    "    \n",
    "    tokens = [ w.lower() for w in tokens]\n",
    "    table = str.maketrans('', '', string.punctuation)\n",
    "    stripped = [w.translate(table) for w in tokens]\n",
    "    words = [word for word in stripped if word.isalpha()]\n",
    "    stop_words = set(stopwords.words('english'))\n",
    "    words = [w for w in words if not w in stop_words]\n",
    "    review_lines.append(words)\n",
    "    "
   ]
  },
  {
   "cell_type": "code",
   "execution_count": 61,
   "id": "e0c6186e",
   "metadata": {},
   "outputs": [
    {
     "name": "stdout",
     "output_type": "stream",
     "text": [
      "found unique tokens 124252\n",
      "shape of review tensor (50000, 2470)\n",
      "shape of sentiment tensor (50000,)\n"
     ]
    }
   ],
   "source": [
    "\n",
    "sequences = tokenizer.texts_to_sequences(total_reviews)\n",
    "word_index = tokenizer.word_index\n",
    "\n",
    "print('found unique tokens %s' %len(word_index))\n",
    "\n",
    "\n",
    "review_pad = pad_sequences(sequences,maxlen = max_length)\n",
    "sentiment = df['sentiment'].values\n",
    "\n",
    "print('shape of review tensor', review_pad.shape)\n",
    "print('shape of sentiment tensor',sentiment.shape)"
   ]
  },
  {
   "cell_type": "code",
   "execution_count": 62,
   "id": "49f8d64e",
   "metadata": {},
   "outputs": [
    {
     "name": "stdout",
     "output_type": "stream",
     "text": [
      "size : 133264\n"
     ]
    }
   ],
   "source": [
    "import gensim\n",
    "DIM=100\n",
    "model = gensim.models.Word2Vec(sentences=review_lines,vector_size=100,window=5,workers=15,min_count=1)\n",
    "\n",
    "\n",
    "\n",
    "print('size : %d' % len(model.wv))\n",
    "\n",
    "model.wv.save_word2vec_format('imdb_embedding_word2vec.txt',binary=False)"
   ]
  },
  {
   "cell_type": "code",
   "execution_count": 63,
   "id": "9ad12aff",
   "metadata": {},
   "outputs": [
    {
     "data": {
      "text/plain": [
       "[('terrible', 0.9160981774330139),\n",
       " ('awful', 0.844463586807251),\n",
       " ('horrendous', 0.76753169298172),\n",
       " ('atrocious', 0.7613363862037659),\n",
       " ('dreadful', 0.7581908702850342),\n",
       " ('sucks', 0.7558382749557495),\n",
       " ('pathetic', 0.7413936257362366),\n",
       " ('horrid', 0.7354460954666138),\n",
       " ('sucked', 0.722019374370575),\n",
       " ('bad', 0.7004726529121399)]"
      ]
     },
     "execution_count": 63,
     "metadata": {},
     "output_type": "execute_result"
    }
   ],
   "source": [
    "model.wv.most_similar('horrible')"
   ]
  },
  {
   "cell_type": "code",
   "execution_count": 64,
   "id": "dc0035b1",
   "metadata": {},
   "outputs": [],
   "source": [
    "embedding_index = {}\n",
    "file = open(os.path.join('', 'imdb_embedding_word2vec.txt'),encoding = \"utf-8\")\n",
    "for line in file:\n",
    "    val = line.split()\n",
    "    word = val[0]\n",
    "    coefs = np.asarray(val[1:])\n",
    "    embedding_index[word] = coefs\n",
    "file.close()"
   ]
  },
  {
   "cell_type": "code",
   "execution_count": 65,
   "id": "a430088c",
   "metadata": {},
   "outputs": [],
   "source": [
    "num_words = len(word_index) +1 \n",
    "embedding_matrix = np.zeros((num_words,DIM))\n",
    "\n",
    "for word, i in word_index.items():\n",
    "    if i > num_words:\n",
    "        continue\n",
    "    embedding_vector=  embedding_index.get(word)\n",
    "    \n",
    "    if embedding_vector is not None:\n",
    "        embedding_matrix[i] = embedding_vector"
   ]
  },
  {
   "cell_type": "code",
   "execution_count": null,
   "id": "d3443c15",
   "metadata": {},
   "outputs": [
    {
     "name": "stdout",
     "output_type": "stream",
     "text": [
      "Epoch 1/25\n"
     ]
    }
   ],
   "source": [
    "from keras.models import Sequential\n",
    "from keras.layers import Dense, Embedding, LSTM, GRU\n",
    "from keras.layers import Embedding\n",
    "from keras.initializers import Constant\n",
    "DIM= 100\n",
    "\n",
    "model = Sequential()\n",
    "embedding = Embedding(num_words,\n",
    "                     DIM,\n",
    "                     embeddings_initializer = Constant(embedding_matrix),\n",
    "                     input_length = max_length,\n",
    "                     trainable=False)\n",
    "\n",
    "model.add(embedding)\n",
    "model.add(GRU(units=32, dropout = 0.2,recurrent_dropout=0.2))\n",
    "model.add(Dense(1, activation ='sigmoid'))\n",
    "\n",
    "model.compile(loss='binary_crossentropy', optimizer = 'adam', metrics = ['accuracy'])\n",
    "model.fit(X_train_pad,y_train,batch_size=128,epochs=25,validation_data=(X_test_pad,y_test),verbose=2)"
   ]
  },
  {
   "cell_type": "code",
   "execution_count": null,
   "id": "9610dd70",
   "metadata": {},
   "outputs": [],
   "source": []
  }
 ],
 "metadata": {
  "kernelspec": {
   "display_name": "Python 3 (ipykernel)",
   "language": "python",
   "name": "python3"
  },
  "language_info": {
   "codemirror_mode": {
    "name": "ipython",
    "version": 3
   },
   "file_extension": ".py",
   "mimetype": "text/x-python",
   "name": "python",
   "nbconvert_exporter": "python",
   "pygments_lexer": "ipython3",
   "version": "3.9.12"
  }
 },
 "nbformat": 4,
 "nbformat_minor": 5
}
